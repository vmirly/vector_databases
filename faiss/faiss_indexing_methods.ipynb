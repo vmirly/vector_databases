{
 "cells": [
  {
   "cell_type": "markdown",
   "metadata": {},
   "source": [
    "#### Installation\n",
    "\n",
    "```bash\n",
    "conda install -c pytorch -c nvidia faiss-gpu=1.8.0\n",
    "```\n",
    "\n",
    "\n",
    "### Dataset\n",
    "\n",
    "* SIFT http://corpus-texmex.irisa.fr/ \n",
    "\n",
    "```bash\n",
    "# Downlaod the data\n",
    "wget http://ann-benchmarks.com/sift-128-euclidean.hdf5\n",
    "```\n"
   ]
  },
  {
   "cell_type": "code",
   "execution_count": 2,
   "metadata": {},
   "outputs": [
    {
     "name": "stdout",
     "output_type": "stream",
     "text": [
      "Keys in the file: ['distances', 'neighbors', 'test', 'train']\n",
      "Dataset 'distances' shape: (10000, 100)\n",
      "Dataset 'distances' dtype: float32\n",
      "Dataset 'neighbors' shape: (10000, 100)\n",
      "Dataset 'neighbors' dtype: int32\n",
      "Dataset 'test' shape: (10000, 128)\n",
      "Dataset 'test' dtype: float32\n",
      "Dataset 'train' shape: (1000000, 128)\n",
      "Dataset 'train' dtype: float32\n"
     ]
    }
   ],
   "source": [
    "import h5py\n",
    "\n",
    "data_file = \"sift-128-euclidean.hdf5\"\n",
    "\n",
    "with h5py.File(data_file, 'r') as f:\n",
    "    print(\"Keys in the file:\", list(f.keys()))\n",
    "    for key in f.keys():\n",
    "        print(f\"Dataset '{key}' shape: {f[key].shape}\")\n",
    "        print(f\"Dataset '{key}' dtype: {f[key].dtype}\")\n",
    "\n",
    "    corpus = f['train'][:]\n",
    "    query = f['test'][:]"
   ]
  },
  {
   "cell_type": "code",
   "execution_count": 3,
   "metadata": {},
   "outputs": [],
   "source": [
    "d = corpus[0].shape[0]\n",
    "k = 100"
   ]
  },
  {
   "cell_type": "code",
   "execution_count": 18,
   "metadata": {},
   "outputs": [],
   "source": [
    "import numpy as np\n",
    "\n",
    "# helper function to calculate recall\n",
    "def calc_recall(res, gt):\n",
    "    recall = 0\n",
    "    for i in range(len(res)):\n",
    "        r = len(np.intersect1d(res[i], gt[i])) / len(gt[i])\n",
    "        recall += r\n",
    "    return recall / len(res)\n"
   ]
  },
  {
   "cell_type": "markdown",
   "metadata": {},
   "source": [
    "### FAISS Flat Index"
   ]
  },
  {
   "cell_type": "code",
   "execution_count": 7,
   "metadata": {},
   "outputs": [],
   "source": [
    "import faiss"
   ]
  },
  {
   "cell_type": "code",
   "execution_count": null,
   "metadata": {},
   "outputs": [],
   "source": [
    "index = faiss.IndexFlatL2(d)\n",
    "index.add(corpus)\n",
    "\n",
    "D, I_truth = index.search(query, k)"
   ]
  },
  {
   "cell_type": "markdown",
   "metadata": {},
   "source": [
    "## IVF Index"
   ]
  },
  {
   "cell_type": "code",
   "execution_count": 26,
   "metadata": {},
   "outputs": [
    {
     "name": "stdout",
     "output_type": "stream",
     "text": [
      "Recall (IVF) = 0.9999\n"
     ]
    }
   ],
   "source": [
    "nlist = 5\n",
    "nprob = 3\n",
    "\n",
    "quantizer = faiss.IndexFlatL2(d)\n",
    "index = faiss.IndexIVFFlat(quantizer, d, nlist)\n",
    "index.nprobe = nprob\n",
    "\n",
    "index.train(corpus)\n",
    "index.add(corpus)\n",
    "\n",
    "# search\n",
    "D, I = index.search(query, k)\n",
    "\n",
    "# calculate recall\n",
    "recall = calc_recall(I, I_truth)\n",
    "print(f\"Recall (IVF) = {recall:.4f}\")"
   ]
  },
  {
   "cell_type": "markdown",
   "metadata": {},
   "source": [
    "### HNSW Index"
   ]
  },
  {
   "cell_type": "code",
   "execution_count": 24,
   "metadata": {},
   "outputs": [
    {
     "name": "stdout",
     "output_type": "stream",
     "text": [
      "Recall (HNSW): 0.8968109999999735\n"
     ]
    }
   ],
   "source": [
    "M = 64\n",
    "ef_search = 32\n",
    "ef_construction = 64\n",
    "\n",
    "index = faiss.IndexHNSWFlat(d, M)\n",
    "# set the two parameters before adding data\n",
    "index.hnsw.efConstruction = ef_construction\n",
    "index.hnsw.efSearch = ef_search\n",
    "\n",
    "index.add(corpus)\n",
    "\n",
    "# search\n",
    "D, I = index.search(query, k)\n",
    "\n",
    "# calculate recall\n",
    "recall = calc_recall(I, I_truth)\n",
    "print(f\"Recall (HNSW): {recall}\")"
   ]
  },
  {
   "cell_type": "markdown",
   "metadata": {},
   "source": [
    "### LSH"
   ]
  },
  {
   "cell_type": "code",
   "execution_count": 25,
   "metadata": {},
   "outputs": [
    {
     "name": "stdout",
     "output_type": "stream",
     "text": [
      "Recall (LSH): 0.5856730000000039\n"
     ]
    }
   ],
   "source": [
    "nbits = d * 8\n",
    "\n",
    "index = faiss.IndexLSH(d, nbits)\n",
    "index.train(corpus)\n",
    "index.add(corpus)\n",
    "\n",
    "# search\n",
    "D, I = index.search(query, k)\n",
    "\n",
    "# calculate recall\n",
    "recall = calc_recall(I, I_truth)\n",
    "print(f\"Recall (LSH): {recall}\")"
   ]
  },
  {
   "cell_type": "markdown",
   "metadata": {},
   "source": [
    "### Scalar Quantizer Index"
   ]
  },
  {
   "cell_type": "code",
   "execution_count": 23,
   "metadata": {},
   "outputs": [
    {
     "name": "stdout",
     "output_type": "stream",
     "text": [
      "Recall (Scalar Quantizer Index): 0.990444999999872\n"
     ]
    }
   ],
   "source": [
    "qtype = faiss.ScalarQuantizer.QT_8bit\n",
    "metric = faiss.METRIC_L2\n",
    "\n",
    "index = faiss.IndexScalarQuantizer(d, qtype, metric)\n",
    "index.train(corpus)\n",
    "index.add(corpus)\n",
    "\n",
    "# search\n",
    "D, I = index.search(query, k)\n",
    "\n",
    "# calculate recall\n",
    "recall = calc_recall(I, I_truth)\n",
    "print(f\"Recall (Scalar Quantizer Index): {recall}\")"
   ]
  },
  {
   "cell_type": "markdown",
   "metadata": {},
   "source": [
    "### Product Quantizer Index"
   ]
  },
  {
   "cell_type": "code",
   "execution_count": 27,
   "metadata": {},
   "outputs": [
    {
     "name": "stdout",
     "output_type": "stream",
     "text": [
      "Recall (PQ): 0.630898999999999\n"
     ]
    }
   ],
   "source": [
    "M = 16\n",
    "nbits = 8\n",
    "metric = faiss.METRIC_L2\n",
    "\n",
    "index = faiss.IndexPQ(d, M, nbits, metric)\n",
    "\n",
    "index.train(corpus)\n",
    "index.add(corpus)\n",
    "\n",
    "# search\n",
    "D, I = index.search(query, k)\n",
    "\n",
    "# calculate recall\n",
    "recall = calc_recall(I, I_truth)\n",
    "print(f\"Recall (PQ): {recall}\")"
   ]
  },
  {
   "cell_type": "code",
   "execution_count": null,
   "metadata": {},
   "outputs": [],
   "source": []
  }
 ],
 "metadata": {
  "kernelspec": {
   "display_name": "py310",
   "language": "python",
   "name": "python3"
  },
  "language_info": {
   "codemirror_mode": {
    "name": "ipython",
    "version": 3
   },
   "file_extension": ".py",
   "mimetype": "text/x-python",
   "name": "python",
   "nbconvert_exporter": "python",
   "pygments_lexer": "ipython3",
   "version": "3.10.14"
  }
 },
 "nbformat": 4,
 "nbformat_minor": 2
}
